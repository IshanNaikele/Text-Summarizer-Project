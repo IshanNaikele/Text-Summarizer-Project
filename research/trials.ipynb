{
 "cells": [
  {
   "cell_type": "code",
   "execution_count": null,
   "metadata": {},
   "outputs": [],
   "source": [
    "# To Access the element in Dictionery like these \n",
    "#d.key  -->We use ConfigBox\n",
    "# To not getting error we use @ensureannotation\n",
    "# ex int x,int y  if any one has given string instead of int ,it will throw any error so that we dont get any random output"
   ]
  },
  {
   "cell_type": "code",
   "execution_count": null,
   "metadata": {},
   "outputs": [],
   "source": []
  }
 ],
 "metadata": {
  "kernelspec": {
   "display_name": "my_env",
   "language": "python",
   "name": "python3"
  },
  "language_info": {
   "name": "python",
   "version": "3.13.1"
  }
 },
 "nbformat": 4,
 "nbformat_minor": 2
}
